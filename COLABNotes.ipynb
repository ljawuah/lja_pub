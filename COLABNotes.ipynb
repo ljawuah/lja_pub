{
  "nbformat": 4,
  "nbformat_minor": 0,
  "metadata": {
    "colab": {
      "name": "COLABNotes.ipynb",
      "provenance": [],
      "collapsed_sections": [],
      "include_colab_link": true
    },
    "kernelspec": {
      "name": "python3",
      "display_name": "Python 3"
    },
    "accelerator": "GPU"
  },
  "cells": [
    {
      "cell_type": "markdown",
      "metadata": {
        "id": "view-in-github",
        "colab_type": "text"
      },
      "source": [
        "<a href=\"https://colab.research.google.com/github/ljawuah/lja_pub/blob/main/COLABNotes.ipynb\" target=\"_parent\"><img src=\"https://colab.research.google.com/assets/colab-badge.svg\" alt=\"Open In Colab\"/></a>"
      ]
    },
    {
      "cell_type": "markdown",
      "metadata": {
        "id": "YpTIgIbQvt2t"
      },
      "source": [
        "\n",
        "# **GOOGLE COLAB**\n"
      ]
    },
    {
      "cell_type": "markdown",
      "metadata": {
        "id": "LVbTfWzOLMYo"
      },
      "source": [
        "# Saving colab Notebooks in Google Drive\n",
        "Note: Saving colab code in personal Gdrive will be saved in Colab Notebooks in your  My Drive folder...\n",
        "This is where Google Colab places all of the saved Notebooks...\n",
        "\n",
        "--------------------------\n",
        "\n"
      ]
    },
    {
      "cell_type": "markdown",
      "metadata": {
        "id": "dwBe0kyhQ0FJ"
      },
      "source": [
        "# Checking Python Versions\n",
        "The following code ensures that Google CoLab is running the correct version of TensorFlow."
      ]
    },
    {
      "cell_type": "code",
      "metadata": {
        "colab": {
          "base_uri": "https://localhost:8080/"
        },
        "id": "jowUMU6gQ0fJ",
        "outputId": "67fe3cb2-fc0f-4665-f054-7670a62f347c"
      },
      "source": [
        "# What version of Python do you have?\n",
        "import sys\n",
        "\n",
        "import tensorflow.keras\n",
        "import pandas as pd\n",
        "import sklearn as sk\n",
        "import tensorflow as tf\n",
        "\n",
        "check_gpu = len(tf.config.list_physical_devices('GPU'))>0\n",
        "\n",
        "print(f\"Tensor Flow Version: {tf.__version__}\")\n",
        "print(f\"Keras Version: {tensorflow.keras.__version__}\")\n",
        "print()\n",
        "print(f\"Python {sys.version}\")\n",
        "print(f\"Pandas {pd.__version__}\")\n",
        "print(f\"Scikit-Learn {sk.__version__}\")\n",
        "print(\"GPU is\", \"available\" if check_gpu \\\n",
        "      else \"NOT AVAILABLE\")"
      ],
      "execution_count": 1,
      "outputs": [
        {
          "output_type": "stream",
          "text": [
            "Tensor Flow Version: 2.5.0\n",
            "Keras Version: 2.5.0\n",
            "\n",
            "Python 3.7.11 (default, Jul  3 2021, 18:01:19) \n",
            "[GCC 7.5.0]\n",
            "Pandas 1.1.5\n",
            "Scikit-Learn 0.22.2.post1\n",
            "GPU is available\n"
          ],
          "name": "stdout"
        }
      ]
    },
    {
      "cell_type": "code",
      "metadata": {
        "id": "GzSLzNJocjJf"
      },
      "source": [
        ""
      ],
      "execution_count": null,
      "outputs": []
    },
    {
      "cell_type": "markdown",
      "metadata": {
        "id": "aIcpOmbFcsWv"
      },
      "source": [
        "# Alternatively...."
      ]
    },
    {
      "cell_type": "code",
      "metadata": {
        "colab": {
          "base_uri": "https://localhost:8080/"
        },
        "id": "G2-xlJP7ylSp",
        "outputId": "7e5911ed-707b-4641-a457-ca654c050470"
      },
      "source": [
        "print(\"TendorFlow Version: {}\".format(tf.__version__))"
      ],
      "execution_count": null,
      "outputs": [
        {
          "output_type": "stream",
          "text": [
            "TendorFlow Version: 2.5.0\n"
          ],
          "name": "stdout"
        }
      ]
    },
    {
      "cell_type": "markdown",
      "metadata": {
        "id": "kEO6CqpnBPAw"
      },
      "source": [
        "\n",
        "The following code ensures weather Google CoLab is running the correct version of TensorFlow or not."
      ]
    },
    {
      "cell_type": "code",
      "metadata": {
        "colab": {
          "base_uri": "https://localhost:8080/"
        },
        "id": "1wDeX92mBw2p",
        "outputId": "08d170e5-ff85-472f-d018-bc9041753302"
      },
      "source": [
        "try:\n",
        "    from google.colab import drive\n",
        "    %tensorflow_version 2.x\n",
        "    COLAB = True\n",
        "    print(\"Note: using Google CoLab\")\n",
        "except:\n",
        "    print(\"Note: not using Google CoLab\")\n",
        "    COLAB = False"
      ],
      "execution_count": null,
      "outputs": [
        {
          "output_type": "stream",
          "text": [
            "Note: using Google CoLab\n"
          ],
          "name": "stdout"
        }
      ]
    },
    {
      "cell_type": "markdown",
      "metadata": {
        "id": "KBkksjaPSbzO"
      },
      "source": [
        "## Mounting GDrive"
      ]
    },
    {
      "cell_type": "code",
      "metadata": {
        "colab": {
          "base_uri": "https://localhost:8080/"
        },
        "id": "lPaEtEJxScLM",
        "outputId": "fa1c154e-9bb0-418a-8923-56ce8bb35af8"
      },
      "source": [
        "from google.colab import drive\n",
        "drive.mount('/content/drive')"
      ],
      "execution_count": null,
      "outputs": [
        {
          "output_type": "stream",
          "text": [
            "Mounted at /content/drive\n"
          ],
          "name": "stdout"
        }
      ]
    },
    {
      "cell_type": "code",
      "metadata": {
        "colab": {
          "base_uri": "https://localhost:8080/"
        },
        "id": "GLztLhzMUPAj",
        "outputId": "3cea5fe4-0e26-4fad-a4e7-e5e1e907b2af"
      },
      "source": [
        "!ls /content/drive/MyDrive/Colab\\ Notebooks"
      ],
      "execution_count": null,
      "outputs": [
        {
          "output_type": "stream",
          "text": [
            " CICIDS2017_Dataset.ipynb\n",
            " CICIDS2017_Dataset-v1.ipynb\n",
            " COLABNotes.ipynb\n",
            " Crashcourse.ipynb\n",
            "'DATA_CLEANING(CICIDS-2017).ipynb'\n",
            " DATA_CLEANING.ipynb\n",
            "'DATA_CLEANING(KDD99).ipynb'\n",
            " DATA_Preprocessing.ipynb\n",
            " KDD_Dataset.ipynb\n",
            " MyColab.ipynb\n",
            "'RoughWork(TimeSeries).ipynb'\n",
            "'t81_558_class_10_1_timeseries(lj).ipynb'\n",
            "'Timeseries Data analysis(lj-AIEngine).ipynb'\n",
            "'Time Series Functions for Sequencing(AIEngine).ipynb'\n",
            "'time_series(lj drive-google).ipynb'\n",
            "'Time Series Prediction with LSTMs(Valkov).ipynb'\n",
            "'timeseries_weather_forecasting (lj drive-keras)'\n"
          ],
          "name": "stdout"
        }
      ]
    },
    {
      "cell_type": "code",
      "metadata": {
        "id": "ENctWT5NvxTr",
        "colab": {
          "base_uri": "https://localhost:8080/"
        },
        "outputId": "229d0ab3-7660-4ee5-c73c-c58190ee7b5a"
      },
      "source": [
        "import tensorflow as tf\n",
        "from tensorflow.python.client import device_lib\n",
        "\n",
        "print(\"Show System RAM Memory:\\n\\n\")\n",
        "!cat /proc/meminfo | egrep \"MemTotal*\"\n",
        "\n",
        "\n",
        "print(\"\\n\\nShow Devices:\\n\\n\"+str(device_lib.list_local_devices()))"
      ],
      "execution_count": null,
      "outputs": [
        {
          "output_type": "stream",
          "text": [
            "Show System RAM Memory:\n",
            "\n",
            "\n",
            "MemTotal:       13302924 kB\n",
            "\n",
            "\n",
            "Show Devices:\n",
            "\n",
            "[name: \"/device:CPU:0\"\n",
            "device_type: \"CPU\"\n",
            "memory_limit: 268435456\n",
            "locality {\n",
            "}\n",
            "incarnation: 7456155874594282316\n",
            ", name: \"/device:GPU:0\"\n",
            "device_type: \"GPU\"\n",
            "memory_limit: 14509932544\n",
            "locality {\n",
            "  bus_id: 1\n",
            "  links {\n",
            "  }\n",
            "}\n",
            "incarnation: 16117037143618890388\n",
            "physical_device_desc: \"device: 0, name: Tesla T4, pci bus id: 0000:00:04.0, compute capability: 7.5\"\n",
            "]\n"
          ],
          "name": "stdout"
        }
      ]
    },
    {
      "cell_type": "code",
      "metadata": {
        "id": "tabRcRXQOISw"
      },
      "source": [
        "#!cat /proc/cpuinfo\n",
        "#!cat /proc/meminfo"
      ],
      "execution_count": null,
      "outputs": []
    },
    {
      "cell_type": "markdown",
      "metadata": {
        "id": "Y42766rP3CZ0"
      },
      "source": [
        "## **Checking GPU Info & TF version**"
      ]
    },
    {
      "cell_type": "code",
      "metadata": {
        "id": "fwaOIFK93BbE",
        "colab": {
          "base_uri": "https://localhost:8080/"
        },
        "outputId": "44239762-0cbb-4d6e-bc67-5826f40174db"
      },
      "source": [
        "!nvidia-smi"
      ],
      "execution_count": null,
      "outputs": [
        {
          "output_type": "stream",
          "text": [
            "Sun Aug  8 22:50:19 2021       \n",
            "+-----------------------------------------------------------------------------+\n",
            "| NVIDIA-SMI 470.42.01    Driver Version: 460.32.03    CUDA Version: 11.2     |\n",
            "|-------------------------------+----------------------+----------------------+\n",
            "| GPU  Name        Persistence-M| Bus-Id        Disp.A | Volatile Uncorr. ECC |\n",
            "| Fan  Temp  Perf  Pwr:Usage/Cap|         Memory-Usage | GPU-Util  Compute M. |\n",
            "|                               |                      |               MIG M. |\n",
            "|===============================+======================+======================|\n",
            "|   0  Tesla T4            Off  | 00000000:00:04.0 Off |                    0 |\n",
            "| N/A   74C    P0    33W /  70W |    222MiB / 15109MiB |      0%      Default |\n",
            "|                               |                      |                  N/A |\n",
            "+-------------------------------+----------------------+----------------------+\n",
            "                                                                               \n",
            "+-----------------------------------------------------------------------------+\n",
            "| Processes:                                                                  |\n",
            "|  GPU   GI   CI        PID   Type   Process name                  GPU Memory |\n",
            "|        ID   ID                                                   Usage      |\n",
            "|=============================================================================|\n",
            "|  No running processes found                                                 |\n",
            "+-----------------------------------------------------------------------------+\n"
          ],
          "name": "stdout"
        }
      ]
    },
    {
      "cell_type": "code",
      "metadata": {
        "id": "qULtKcnmv1l6",
        "colab": {
          "base_uri": "https://localhost:8080/"
        },
        "outputId": "d58ed465-0625-4064-fde2-b675bedb25c0"
      },
      "source": [
        "print(tf.__version__) # OR print(tf.version.VERSION)"
      ],
      "execution_count": null,
      "outputs": [
        {
          "output_type": "stream",
          "text": [
            "2.5.0\n"
          ],
          "name": "stdout"
        }
      ]
    },
    {
      "cell_type": "code",
      "metadata": {
        "colab": {
          "base_uri": "https://localhost:8080/"
        },
        "id": "z14hhd6B3yfb",
        "outputId": "e224beba-2458-479b-d768-d1dec62ef1f2"
      },
      "source": [
        "pip show tensorflow"
      ],
      "execution_count": null,
      "outputs": [
        {
          "output_type": "stream",
          "text": [
            "Name: tensorflow\n",
            "Version: 2.5.0\n",
            "Summary: TensorFlow is an open source machine learning framework for everyone.\n",
            "Home-page: https://www.tensorflow.org/\n",
            "Author: Google Inc.\n",
            "Author-email: packages@tensorflow.org\n",
            "License: Apache 2.0\n",
            "Location: /usr/local/lib/python3.7/dist-packages\n",
            "Requires: tensorboard, astunparse, wrapt, six, keras-nightly, absl-py, h5py, typing-extensions, keras-preprocessing, opt-einsum, google-pasta, flatbuffers, tensorflow-estimator, grpcio, protobuf, numpy, gast, termcolor, wheel\n",
            "Required-by: kapre\n"
          ],
          "name": "stdout"
        }
      ]
    },
    {
      "cell_type": "code",
      "metadata": {
        "colab": {
          "base_uri": "https://localhost:8080/"
        },
        "id": "mOLPtMwf484_",
        "outputId": "3e8d10a4-3bf3-4243-9032-7f0f4bd73c03"
      },
      "source": [
        "pip list | grep tensorflow"
      ],
      "execution_count": null,
      "outputs": [
        {
          "output_type": "stream",
          "text": [
            "tensorflow                    2.5.0\n",
            "tensorflow-datasets           4.0.1\n",
            "tensorflow-estimator          2.5.0\n",
            "tensorflow-gcs-config         2.5.0\n",
            "tensorflow-hub                0.12.0\n",
            "tensorflow-metadata           1.1.0\n",
            "tensorflow-probability        0.13.0\n"
          ],
          "name": "stdout"
        }
      ]
    },
    {
      "cell_type": "markdown",
      "metadata": {
        "id": "6saJVfG35VX6"
      },
      "source": [
        "# DOWNLOADING DATASET FROM ONLINE(URL) & CLONING GITHUB CODE\n",
        "### **CLONING FROM GITHUB** bold text\n",
        "\n",
        "!git clone <url> OR !wget clone <url>"
      ]
    },
    {
      "cell_type": "code",
      "metadata": {
        "id": "aml5htR-4W9g"
      },
      "source": [
        ""
      ],
      "execution_count": null,
      "outputs": []
    },
    {
      "cell_type": "code",
      "metadata": {
        "id": "BKDR4f9xxDMG",
        "colab": {
          "base_uri": "https://localhost:8080/"
        },
        "outputId": "4b3e4347-ea87-409c-baae-56290e91348f"
      },
      "source": [
        "!git clone https://github.com/jeffheaton/t81_558_deep_learning.git"
      ],
      "execution_count": null,
      "outputs": [
        {
          "output_type": "stream",
          "text": [
            "Cloning into 't81_558_deep_learning'...\n",
            "remote: Enumerating objects: 3950, done.\u001b[K\n",
            "remote: Counting objects: 100% (150/150), done.\u001b[K\n",
            "remote: Compressing objects: 100% (113/113), done.\u001b[K\n",
            "remote: Total 3950 (delta 81), reused 89 (delta 37), pack-reused 3800\u001b[K\n",
            "Receiving objects: 100% (3950/3950), 206.79 MiB | 33.09 MiB/s, done.\n",
            "Resolving deltas: 100% (2623/2623), done.\n"
          ],
          "name": "stdout"
        }
      ]
    },
    {
      "cell_type": "code",
      "metadata": {
        "id": "OvmBMIcix0oR",
        "colab": {
          "base_uri": "https://localhost:8080/"
        },
        "outputId": "df6e23d2-ac9c-44ba-9168-283d1e379ccc"
      },
      "source": [
        "!ls"
      ],
      "execution_count": null,
      "outputs": [
        {
          "output_type": "stream",
          "text": [
            "sample_data  t81_558_deep_learning\n"
          ],
          "name": "stdout"
        }
      ]
    },
    {
      "cell_type": "markdown",
      "metadata": {
        "id": "kinJMAjI37aL"
      },
      "source": [
        "DOWNLOADING DATASET FROM ONLINE(URL)"
      ]
    },
    {
      "cell_type": "code",
      "metadata": {
        "id": "dJKHCjSk37kU"
      },
      "source": [
        "!wget https://www.unb.ca/cic/datasets/ids-2017.html "
      ],
      "execution_count": null,
      "outputs": []
    },
    {
      "cell_type": "markdown",
      "metadata": {
        "id": "TOiXK7KSAxfM"
      },
      "source": [
        "# How to read a csv dataset from GitHub in Pandas\n",
        "\n",
        "https://community.insaid.co/hc/en-us/articles/360052303453-How-to-read-a-csv-dataset-from-GitHub-in-Pandas-\n",
        "From Github > It is the easiest way to to upload a CSV file in Colab. For this go to the dataset in your github repository, and then click on “View Raw”. Copy the link to the raw dataset and pass it as a parameter to the read_csv() in pandas to get the dataframe. \n",
        "\n",
        "For reading a csv datasets from a GitHub repository:\n",
        "1. Open the GitHub repository page in your web browser.\n",
        "2. Click on the dataset file you want to read from the GitHub repository. A preview of the file will open.\n",
        "3. You will find a \"Raw\" button to the upper right corner of the file preview. Click on it.\n",
        "4. The file preview will open with a URL like this:  https://raw.githubusercontent.com/insaid......\n",
        "5. Copy this URL and paste in pd.read_csv() to read it."
      ]
    },
    {
      "cell_type": "code",
      "metadata": {
        "id": "41UlS6CHAxsk"
      },
      "source": [
        "#url = 'copied_raw_github_link'\n",
        "#df = pd.read_csv(url)\n",
        "url = 'https://raw.githubusercontent.com/codebasics/py/master/pandas/5_handling_missing_data_fillna_dropna_interpolate/weather_data.csv'\n",
        "df = pd.read_csv(url)"
      ],
      "execution_count": null,
      "outputs": []
    },
    {
      "cell_type": "markdown",
      "metadata": {
        "id": "GnCKd37j1dn_"
      },
      "source": [
        "# **To see the content of a file.....**"
      ]
    },
    {
      "cell_type": "code",
      "metadata": {
        "id": "wKHRVEXT0e9Q"
      },
      "source": [
        "#cat mnist_test.csv"
      ],
      "execution_count": null,
      "outputs": []
    },
    {
      "cell_type": "code",
      "metadata": {
        "id": "LrZ7sglq1Qar",
        "colab": {
          "base_uri": "https://localhost:8080/",
          "height": 34
        },
        "outputId": "eaab8e5e-5ef9-4156-c827-2119b4877e1f"
      },
      "source": [
        "cd ../"
      ],
      "execution_count": null,
      "outputs": [
        {
          "output_type": "stream",
          "text": [
            "/content\n"
          ],
          "name": "stdout"
        }
      ]
    },
    {
      "cell_type": "code",
      "metadata": {
        "id": "i4CD5ff91vfn",
        "colab": {
          "base_uri": "https://localhost:8080/",
          "height": 34
        },
        "outputId": "e569aa91-25f1-4117-c40d-65b702872bd5"
      },
      "source": [
        "pwd"
      ],
      "execution_count": null,
      "outputs": [
        {
          "output_type": "execute_result",
          "data": {
            "text/plain": [
              "'/content'"
            ]
          },
          "metadata": {
            "tags": []
          },
          "execution_count": 20
        }
      ]
    },
    {
      "cell_type": "code",
      "metadata": {
        "id": "CoV_TF9E1yMM",
        "colab": {
          "base_uri": "https://localhost:8080/"
        },
        "outputId": "1a4ff7dd-d9b2-4f53-c417-21d511988f0b"
      },
      "source": [
        "cd t81_558_deep_learning/"
      ],
      "execution_count": null,
      "outputs": [
        {
          "output_type": "stream",
          "text": [
            "/content/t81_558_deep_learning\n"
          ],
          "name": "stdout"
        }
      ]
    },
    {
      "cell_type": "code",
      "metadata": {
        "id": "QYfZLg4e2DTn"
      },
      "source": [
        "#cat t81_558_class02_python_ml.ipynb"
      ],
      "execution_count": null,
      "outputs": []
    },
    {
      "cell_type": "code",
      "metadata": {
        "id": "MDLfaaX13H0i",
        "colab": {
          "base_uri": "https://localhost:8080/",
          "height": 35
        },
        "outputId": "0ab0c909-1182-4836-906b-b3784fac347b"
      },
      "source": [
        "pwd"
      ],
      "execution_count": null,
      "outputs": [
        {
          "output_type": "execute_result",
          "data": {
            "application/vnd.google.colaboratory.intrinsic+json": {
              "type": "string"
            },
            "text/plain": [
              "'/content/t81_558_deep_learning'"
            ]
          },
          "metadata": {
            "tags": []
          },
          "execution_count": 18
        }
      ]
    },
    {
      "cell_type": "markdown",
      "metadata": {
        "id": "uaJQkcQq4aUH"
      },
      "source": [
        "# **UPLOADING FILES TO COLAB**\n",
        "\n",
        "\n",
        "USE: 1-the upload tool under Files menu.2-the scripts from  code snippets. 3-git clone url\n",
        "\n",
        "\n",
        "\n"
      ]
    },
    {
      "cell_type": "code",
      "metadata": {
        "id": "X1Ssak6w4gW9"
      },
      "source": [
        ""
      ],
      "execution_count": null,
      "outputs": []
    },
    {
      "cell_type": "code",
      "metadata": {
        "id": "Dey4UEjz5CVa",
        "colab": {
          "resources": {
            "http://localhost:8080/nbextensions/google.colab/files.js": {
              "data": "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",
              "ok": true,
              "headers": [
                [
                  "content-type",
                  "application/javascript"
                ]
              ],
              "status": 200,
              "status_text": ""
            }
          },
          "base_uri": "https://localhost:8080/",
          "height": 38
        },
        "outputId": "7dcf6320-ad7b-46ef-928d-f6e9ec6ca4c0"
      },
      "source": [
        "from google.colab import files\n",
        "import pandas as pd\n",
        "uploaded = files.upload()\n",
        "\n",
        "\n"
      ],
      "execution_count": null,
      "outputs": [
        {
          "output_type": "display_data",
          "data": {
            "text/html": [
              "\n",
              "     <input type=\"file\" id=\"files-54de767b-d9c9-42c7-a09f-9f512cbc8c17\" name=\"files[]\" multiple disabled\n",
              "        style=\"border:none\" />\n",
              "     <output id=\"result-54de767b-d9c9-42c7-a09f-9f512cbc8c17\">\n",
              "      Upload widget is only available when the cell has been executed in the\n",
              "      current browser session. Please rerun this cell to enable.\n",
              "      </output>\n",
              "      <script src=\"/nbextensions/google.colab/files.js\"></script> "
            ],
            "text/plain": [
              "<IPython.core.display.HTML object>"
            ]
          },
          "metadata": {
            "tags": []
          }
        }
      ]
    },
    {
      "cell_type": "code",
      "metadata": {
        "id": "nIDPhw-z5pw2",
        "colab": {
          "base_uri": "https://localhost:8080/",
          "height": 34
        },
        "outputId": "add9e74d-f554-4b5b-cc7a-aa720431a02a"
      },
      "source": [
        "pwd"
      ],
      "execution_count": null,
      "outputs": [
        {
          "output_type": "execute_result",
          "data": {
            "text/plain": [
              "'/content/LJFolder'"
            ]
          },
          "metadata": {
            "tags": []
          },
          "execution_count": 21
        }
      ]
    },
    {
      "cell_type": "code",
      "metadata": {
        "id": "4BCxWHwp7s1d"
      },
      "source": [
        "#mal = pd.read_csv('Malware dataset.csv')"
      ],
      "execution_count": null,
      "outputs": []
    },
    {
      "cell_type": "code",
      "metadata": {
        "id": "DqEpIp-08qCW"
      },
      "source": [
        "#mal.head()"
      ],
      "execution_count": null,
      "outputs": []
    },
    {
      "cell_type": "code",
      "metadata": {
        "id": "0X-LF8fk8y7q",
        "colab": {
          "base_uri": "https://localhost:8080/",
          "height": 34
        },
        "outputId": "c9c57b2b-9ab3-42b3-dac3-8eae0074dc3d"
      },
      "source": [
        "pwd"
      ],
      "execution_count": null,
      "outputs": [
        {
          "output_type": "execute_result",
          "data": {
            "text/plain": [
              "'/content/t81_558_deep_learning'"
            ]
          },
          "metadata": {
            "tags": []
          },
          "execution_count": 35
        }
      ]
    },
    {
      "cell_type": "code",
      "metadata": {
        "id": "xgoVjI3u9Hci"
      },
      "source": [
        ""
      ],
      "execution_count": null,
      "outputs": []
    },
    {
      "cell_type": "code",
      "metadata": {
        "id": "om-7X3qA9JNi",
        "colab": {
          "base_uri": "https://localhost:8080/",
          "height": 34
        },
        "outputId": "aeeb3cf2-e0ae-491d-bb1f-3eed93400de9"
      },
      "source": [
        "!mv Malware dataset.csv  content/"
      ],
      "execution_count": null,
      "outputs": [
        {
          "output_type": "stream",
          "text": [
            "mv: target 'content/' is not a directory\n"
          ],
          "name": "stdout"
        }
      ]
    },
    {
      "cell_type": "code",
      "metadata": {
        "id": "y2BhDlaZ9gMD",
        "colab": {
          "base_uri": "https://localhost:8080/",
          "height": 34
        },
        "outputId": "2990a2da-b03b-4225-9fcf-cd348e279c4e"
      },
      "source": [
        "cd ../"
      ],
      "execution_count": null,
      "outputs": [
        {
          "output_type": "stream",
          "text": [
            "/content\n"
          ],
          "name": "stdout"
        }
      ]
    },
    {
      "cell_type": "code",
      "metadata": {
        "id": "uzkOLkRE97t1"
      },
      "source": [
        "!mv /content/t81_558_deep_learning/'Malware dataset.csv' ."
      ],
      "execution_count": null,
      "outputs": []
    },
    {
      "cell_type": "code",
      "metadata": {
        "id": "VXI1MuBn-WYQ",
        "colab": {
          "base_uri": "https://localhost:8080/",
          "height": 34
        },
        "outputId": "0ef11739-b771-49b4-b8e2-6d7cb8b1e8b4"
      },
      "source": [
        "ls"
      ],
      "execution_count": null,
      "outputs": [
        {
          "output_type": "stream",
          "text": [
            "'Malware dataset.csv'   \u001b[0m\u001b[01;34msample_data\u001b[0m/   \u001b[01;34mt81_558_deep_learning\u001b[0m/\n"
          ],
          "name": "stdout"
        }
      ]
    },
    {
      "cell_type": "code",
      "metadata": {
        "id": "QP2Vf0VA-aR_",
        "colab": {
          "base_uri": "https://localhost:8080/",
          "height": 281
        },
        "outputId": "bd855880-96d1-4257-b26d-17cd2ffec35d"
      },
      "source": [
        "ls /content/t81_558_deep_learning"
      ],
      "execution_count": null,
      "outputs": [
        {
          "output_type": "stream",
          "text": [
            "\u001b[0m\u001b[01;34massignments\u001b[0m/                        t81_558_class03_tensor_flow.ipynb\n",
            "citations.ipynb                     t81_558_class04_training.ipynb\n",
            "\u001b[01;34mdata\u001b[0m/                               t81_558_class05_class_reg.ipynb\n",
            "datasets_iris.ipynb                 t81_558_class06_backpropagation.ipynb\n",
            "datasets_mpg.ipynb                  t81_558_class07_cnn.ipynb\n",
            "datasets_toy1.ipynb                 t81_558_class08_kaggle.ipynb\n",
            "datasets_wcbc.ipynb                 t81_558_class09_regularization.ipynb\n",
            "\u001b[01;34menv-exports\u001b[0m/                        t81_558_class10_lstm.ipynb\n",
            "\u001b[01;34mimages\u001b[0m/                             t81_558_class11_text_nlp.ipynb\n",
            "jeffs_helpful.ipynb                 t81_558_class12_security.ipynb\n",
            "LICENSE                             t81_558_class13_adv.ipynb\n",
            "\u001b[01;34mpdf\u001b[0m/                                t81_558_class14_aws.ipynb\n",
            "README.md                           t81_558_reference.ipynb\n",
            "t81_558_class01_intro_python.ipynb  tf_kdd99.ipynb\n",
            "t81_558_class02_python_ml.ipynb\n"
          ],
          "name": "stdout"
        }
      ]
    },
    {
      "cell_type": "code",
      "metadata": {
        "id": "8EMWgI1a-igJ",
        "colab": {
          "base_uri": "https://localhost:8080/",
          "height": 34
        },
        "outputId": "8cdb0c07-3f8f-4024-bb62-3af5d0149506"
      },
      "source": [
        "pwd"
      ],
      "execution_count": null,
      "outputs": [
        {
          "output_type": "execute_result",
          "data": {
            "text/plain": [
              "'/content'"
            ]
          },
          "metadata": {
            "tags": []
          },
          "execution_count": 1
        }
      ]
    },
    {
      "cell_type": "markdown",
      "metadata": {
        "id": "c2OF8_QY_nrO"
      },
      "source": [
        "# **DOWNLOADING DATASET  FROM ONLINE(URL) & CLONING GITHUB CODE**"
      ]
    },
    {
      "cell_type": "code",
      "metadata": {
        "id": "ILJIHFow_yn6",
        "colab": {
          "base_uri": "https://localhost:8080/",
          "height": 210
        },
        "outputId": "3b59d5ac-0dec-4cfd-d5a5-7bd17ce74617"
      },
      "source": [
        "!wget https://www.unb.ca/cic/datasets/ids-2017.html"
      ],
      "execution_count": null,
      "outputs": [
        {
          "output_type": "stream",
          "text": [
            "--2019-03-08 06:32:05--  https://www.unb.ca/cic/datasets/ids-2017.html\n",
            "Resolving www.unb.ca (www.unb.ca)... 131.202.1.106\n",
            "Connecting to www.unb.ca (www.unb.ca)|131.202.1.106|:443... connected.\n",
            "HTTP request sent, awaiting response... 200 OK\n",
            "Length: 53301 (52K) [text/html]\n",
            "Saving to: ‘ids-2017.html’\n",
            "\n",
            "ids-2017.html       100%[===================>]  52.05K  --.-KB/s    in 0.1s    \n",
            "\n",
            "2019-03-08 06:32:05 (392 KB/s) - ‘ids-2017.html’ saved [53301/53301]\n",
            "\n"
          ],
          "name": "stdout"
        }
      ]
    },
    {
      "cell_type": "code",
      "metadata": {
        "id": "pBAFwYrpAGJG"
      },
      "source": [
        "#pd.read_csv('ids-2017.html')"
      ],
      "execution_count": null,
      "outputs": []
    },
    {
      "cell_type": "code",
      "metadata": {
        "id": "V13rbfp7ATGb",
        "colab": {
          "base_uri": "https://localhost:8080/",
          "height": 105
        },
        "outputId": "871435d5-128d-40d9-f294-774c3acee546"
      },
      "source": [
        "!git clone https://github.com/vinayakumarr/Network-Intrusion-Detection.git"
      ],
      "execution_count": null,
      "outputs": [
        {
          "output_type": "stream",
          "text": [
            "Cloning into 'Network-Intrusion-Detection'...\n",
            "remote: Enumerating objects: 137, done.\u001b[K\n",
            "remote: Total 137 (delta 0), reused 0 (delta 0), pack-reused 137\u001b[K\n",
            "Receiving objects:   0% (1/137)   \rReceiving objects:   1% (2/137)   \rReceiving objects:   2% (3/137)   \rReceiving objects:   3% (5/137)   \rReceiving objects:   4% (6/137)   \rReceiving objects:   5% (7/137)   \rReceiving objects:   6% (9/137)   \rReceiving objects:   7% (10/137)   \rReceiving objects:   8% (11/137)   \rReceiving objects:   9% (13/137)   \rReceiving objects:  10% (14/137)   \rReceiving objects:  11% (16/137)   \rReceiving objects:  12% (17/137)   \rReceiving objects:  13% (18/137)   \rReceiving objects:  14% (20/137)   \rReceiving objects:  15% (21/137)   \rReceiving objects:  16% (22/137)   \rReceiving objects:  17% (24/137)   \rReceiving objects:  18% (25/137)   \rReceiving objects:  19% (27/137)   \rReceiving objects:  20% (28/137)   \rReceiving objects:  21% (29/137)   \rReceiving objects:  22% (31/137)   \rReceiving objects:  23% (32/137)   \rReceiving objects:  24% (33/137)   \rReceiving objects:  25% (35/137)   \rReceiving objects:  26% (36/137)   \rReceiving objects:  27% (37/137)   \rReceiving objects:  28% (39/137)   \rReceiving objects:  29% (40/137)   \rReceiving objects:  30% (42/137)   \rReceiving objects:  31% (43/137)   \rReceiving objects:  32% (44/137)   \rReceiving objects:  33% (46/137)   \rReceiving objects:  34% (47/137)   \rReceiving objects:  35% (48/137)   \rReceiving objects:  36% (50/137)   \rReceiving objects:  37% (51/137)   \rReceiving objects:  38% (53/137)   \rReceiving objects:  39% (54/137)   \rReceiving objects:  40% (55/137)   \rReceiving objects:  41% (57/137)   \rReceiving objects:  42% (58/137)   \rReceiving objects:  43% (59/137)   \rReceiving objects:  44% (61/137)   \rReceiving objects:  45% (62/137)   \rReceiving objects:  46% (64/137)   \rReceiving objects:  47% (65/137)   \rReceiving objects:  48% (66/137)   \rReceiving objects:  49% (68/137)   \rReceiving objects:  50% (69/137)   \rReceiving objects:  51% (70/137)   \rReceiving objects:  52% (72/137)   \rReceiving objects:  53% (73/137)   \rReceiving objects:  54% (74/137)   \rReceiving objects:  55% (76/137)   \rReceiving objects:  56% (77/137)   \rReceiving objects:  57% (79/137)   \rReceiving objects:  58% (80/137)   \rReceiving objects:  59% (81/137)   \rReceiving objects:  60% (83/137)   \rReceiving objects:  61% (84/137)   \rReceiving objects:  62% (85/137)   \rReceiving objects:  63% (87/137)   \rReceiving objects:  64% (88/137)   \rReceiving objects:  65% (90/137)   \rReceiving objects:  66% (91/137)   \rReceiving objects:  67% (92/137)   \rReceiving objects:  68% (94/137)   \rReceiving objects:  69% (95/137)   \rReceiving objects:  70% (96/137)   \rReceiving objects:  71% (98/137)   \rReceiving objects:  72% (99/137)   \rReceiving objects:  73% (101/137)   \rReceiving objects:  74% (102/137)   \rReceiving objects:  75% (103/137)   \rReceiving objects:  76% (105/137)   \rReceiving objects:  77% (106/137)   \rReceiving objects:  78% (107/137)   \rReceiving objects:  79% (109/137)   \rReceiving objects:  80% (110/137)   \rReceiving objects:  81% (111/137)   \rReceiving objects:  82% (113/137)   \rReceiving objects:  83% (114/137)   \rReceiving objects:  84% (116/137)   \rReceiving objects:  85% (117/137)   \rReceiving objects:  86% (118/137)   \rReceiving objects:  87% (120/137)   \rReceiving objects:  88% (121/137)   \rReceiving objects:  89% (122/137)   \rReceiving objects:  90% (124/137)   \rReceiving objects:  91% (125/137)   \rReceiving objects:  92% (127/137)   \rReceiving objects:  93% (128/137)   \rReceiving objects:  94% (129/137)   \rReceiving objects:  95% (131/137)   \rReceiving objects:  96% (132/137)   \rReceiving objects:  97% (133/137)   \rReceiving objects:  98% (135/137)   \rReceiving objects:  99% (136/137)   \rReceiving objects: 100% (137/137)   \rReceiving objects: 100% (137/137), 24.07 KiB | 12.03 MiB/s, done.\n",
            "Resolving deltas:   0% (0/95)   \rResolving deltas:   3% (3/95)   \rResolving deltas:   5% (5/95)   \rResolving deltas:   9% (9/95)   \rResolving deltas:  13% (13/95)   \rResolving deltas:  22% (21/95)   \rResolving deltas: 100% (95/95)   \rResolving deltas: 100% (95/95), done.\n"
          ],
          "name": "stdout"
        }
      ]
    },
    {
      "cell_type": "code",
      "metadata": {
        "id": "6Q1J-_48DKXt",
        "colab": {
          "base_uri": "https://localhost:8080/",
          "height": 34
        },
        "outputId": "abddb363-fb7d-4a12-fec4-73d737bf123e"
      },
      "source": [
        "pwd\n"
      ],
      "execution_count": null,
      "outputs": [
        {
          "output_type": "execute_result",
          "data": {
            "text/plain": [
              "'/content'"
            ]
          },
          "metadata": {
            "tags": []
          },
          "execution_count": 52
        }
      ]
    },
    {
      "cell_type": "code",
      "metadata": {
        "id": "WPxVCnomDM2i",
        "colab": {
          "base_uri": "https://localhost:8080/",
          "height": 52
        },
        "outputId": "16815fcd-4027-457f-c27e-4720761c5ed9"
      },
      "source": [
        "ls"
      ],
      "execution_count": null,
      "outputs": [
        {
          "output_type": "stream",
          "text": [
            " ids-2017.html          \u001b[0m\u001b[01;34mNetwork-Intrusion-Detection\u001b[0m/   \u001b[01;34mt81_558_deep_learning\u001b[0m/\n",
            "'Malware dataset.csv'   \u001b[01;34msample_data\u001b[0m/\n"
          ],
          "name": "stdout"
        }
      ]
    },
    {
      "cell_type": "code",
      "metadata": {
        "id": "rQPjPB1ADN7k",
        "colab": {
          "base_uri": "https://localhost:8080/",
          "height": 34
        },
        "outputId": "89943469-5466-4392-e88b-f374d60a962b"
      },
      "source": [
        "ls Network-Intrusion-Detection/"
      ],
      "execution_count": null,
      "outputs": [
        {
          "output_type": "stream",
          "text": [
            "\u001b[0m\u001b[01;34m'KDDCup 99'\u001b[0m/   \u001b[01;34mNSL-KDD\u001b[0m/   README.md   \u001b[01;34mUNSW-NB15\u001b[0m/\n"
          ],
          "name": "stdout"
        }
      ]
    },
    {
      "cell_type": "code",
      "metadata": {
        "id": "uIC5Wl98DYZm",
        "colab": {
          "base_uri": "https://localhost:8080/",
          "height": 34
        },
        "outputId": "074fd551-ac23-4358-9466-b5556f154d87"
      },
      "source": [
        "ls Network-Intrusion-Detection/NSL-KDD/"
      ],
      "execution_count": null,
      "outputs": [
        {
          "output_type": "stream",
          "text": [
            "\u001b[0m\u001b[01;34mclassical\u001b[0m/  \u001b[01;34mCNN\u001b[0m/  \u001b[01;34mCNN-LSTM\u001b[0m/  \u001b[01;34mdnn\u001b[0m/  \u001b[01;34mGRU\u001b[0m/  \u001b[01;34mLSTM\u001b[0m/  \u001b[01;34mSimpleRNN\u001b[0m/\n"
          ],
          "name": "stdout"
        }
      ]
    },
    {
      "cell_type": "markdown",
      "metadata": {
        "id": "zgThdjrESok6"
      },
      "source": [
        "# **Making Directory**"
      ]
    },
    {
      "cell_type": "code",
      "metadata": {
        "id": "f4X7ARi4DqfX"
      },
      "source": [
        "!mkdir LJFolder"
      ],
      "execution_count": null,
      "outputs": []
    },
    {
      "cell_type": "code",
      "metadata": {
        "id": "5i1I6ECZTfb-",
        "colab": {
          "base_uri": "https://localhost:8080/",
          "height": 34
        },
        "outputId": "a5aa2665-416d-48f3-905d-ee331e5f54b0"
      },
      "source": [
        "ls"
      ],
      "execution_count": null,
      "outputs": [
        {
          "output_type": "stream",
          "text": [
            "\u001b[0m\u001b[01;34mLJFolder\u001b[0m/  \u001b[01;34msample_data\u001b[0m/\n"
          ],
          "name": "stdout"
        }
      ]
    },
    {
      "cell_type": "code",
      "metadata": {
        "id": "t6M5M7TnTlTr",
        "colab": {
          "base_uri": "https://localhost:8080/",
          "height": 34
        },
        "outputId": "ec6d253f-b56f-4ebd-9bff-52eba35b3b34"
      },
      "source": [
        "cd LJFolder/\n"
      ],
      "execution_count": null,
      "outputs": [
        {
          "output_type": "stream",
          "text": [
            "/content/LJFolder\n"
          ],
          "name": "stdout"
        }
      ]
    },
    {
      "cell_type": "code",
      "metadata": {
        "id": "wDp3jX64ULF7",
        "colab": {
          "base_uri": "https://localhost:8080/",
          "height": 210
        },
        "outputId": "95d3ef26-ff84-40c9-a5c5-ddffdf5418ca"
      },
      "source": [
        "ls\n"
      ],
      "execution_count": null,
      "outputs": [
        {
          "output_type": "stream",
          "text": [
            " breaches.csv\n",
            " Friday-WorkingHours-Afternoon-DDos.pcap_ISCX.csv\n",
            " Friday-WorkingHours-Afternoon-PortScan.pcap_ISCX.csv\n",
            " Friday-WorkingHours-Morning.pcap_ISCX.csv\n",
            " HHSCyberSecurityBreaches.csv\n",
            "'Malware dataset.csv'\n",
            " Monday-WorkingHours.pcap_ISCX.csv\n",
            " Thursday-WorkingHours-Afternoon-Infilteration.pcap_ISCX.csv\n",
            " Thursday-WorkingHours-Morning-WebAttacks.pcap_ISCX.csv\n",
            " Tuesday-WorkingHours.pcap_ISCX.csv\n",
            " Wednesday-workingHours.pcap_ISCX.csv\n"
          ],
          "name": "stdout"
        }
      ]
    },
    {
      "cell_type": "code",
      "metadata": {
        "id": "PElFyGdPUgaX"
      },
      "source": [
        "import pandas as pd\n"
      ],
      "execution_count": null,
      "outputs": []
    },
    {
      "cell_type": "code",
      "metadata": {
        "id": "YdvSoteNoCbi"
      },
      "source": [
        "breach = pd.read_csv('breaches.csv')\n",
        "\n",
        "#breach.head()"
      ],
      "execution_count": null,
      "outputs": []
    },
    {
      "cell_type": "code",
      "metadata": {
        "id": "lucfKfdFoC83",
        "colab": {
          "base_uri": "https://localhost:8080/",
          "height": 34
        },
        "outputId": "31709677-9885-46e7-c265-c2f3e47ed753"
      },
      "source": [
        "tf.VERSION"
      ],
      "execution_count": null,
      "outputs": [
        {
          "output_type": "execute_result",
          "data": {
            "text/plain": [
              "'1.13.1'"
            ]
          },
          "metadata": {
            "tags": []
          },
          "execution_count": 3
        }
      ]
    },
    {
      "cell_type": "code",
      "metadata": {
        "id": "fA0Rv5-moDlE"
      },
      "source": [
        ""
      ],
      "execution_count": null,
      "outputs": []
    }
  ]
}